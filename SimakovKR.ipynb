{
  "cells": [
    {
      "cell_type": "code",
      "execution_count": null,
      "metadata": {
        "id": "mMc5OzD-H-Ka"
      },
      "outputs": [],
      "source": [
        "import numpy as np\n",
        "import time\n",
        "import random\n",
        "import scipy\n",
        "np.set_printoptions(suppress=True)\n",
        "np.set_printoptions(precision=6, floatmode='fixed')\n",
        "import random"
      ]
    },
    {
      "cell_type": "code",
      "execution_count": null,
      "metadata": {
        "id": "VlDaoUsqIbPq"
      },
      "outputs": [],
      "source": [
        "def createMtr(num, n=0):\n",
        "\n",
        "    if num == 1:\n",
        "      A = np.zeros((n, n))\n",
        "      for i in range(len(A)):\n",
        "          for j in range(len(A[i])):\n",
        "              A[i, j] = i + j + 1\n",
        "\n",
        "    elif num == 2:\n",
        "        A = np.array([[5, 6, 3],\n",
        "                      [-1, 0, 1],\n",
        "                      [1, 2, -1]])\n",
        "\n",
        "    elif num == 3:\n",
        "        A = np.array([[-1, -6],\n",
        "                      [2, 7]])\n",
        "\n",
        "    elif num == 4:\n",
        "        A = np.array([[-3, -4],\n",
        "                      [2, 2]])\n",
        "\n",
        "    elif num == 5:\n",
        "        A = np.zeros((n, n))\n",
        "        for i in range(len(A)):\n",
        "          for j in range(len(A[i])):\n",
        "              A[i, j] = random.uniform(-100, 100)\n",
        "\n",
        "\n",
        "    return A\n",
        "\n",
        "\n",
        "\n",
        "A = createMtr(5, 100)\n",
        "#print('Матрица A')\n",
        "#print(A)"
      ]
    },
    {
      "cell_type": "markdown",
      "metadata": {
        "id": "wR05XLdtINXs"
      },
      "source": [
        "# QR-алгоритм для матрицы в обычной форме"
      ]
    },
    {
      "cell_type": "code",
      "execution_count": null,
      "metadata": {
        "id": "l_aMLPGEIYkE"
      },
      "outputs": [],
      "source": [
        "#сумма квадратов элементов ниже главной диагонали\n",
        "def sumSqBelow(A):\n",
        "    sum = 0\n",
        "    n, m = np.shape(A)\n",
        "    rows, cols = np.tril_indices(n, -1, m)\n",
        "    for (row, col) in zip(rows, cols):\n",
        "         sum += (A[row, col])**2\n",
        "\n",
        "    return sum\n",
        "\n",
        "\n",
        "def norm(a, b):\n",
        "    sum = 0\n",
        "    a = np.sort(a)\n",
        "    b = np.sort(b)\n",
        "    for i in range(len(a)):\n",
        "        sum += (a[i]-b[i])**2\n",
        "    return np.sqrt(sum)\n",
        "\n",
        "#print(sumSqBelow(A))\n",
        "\n",
        "def houseVector(a):\n",
        "    v = a / (a[0] + np.copysign(np.linalg.norm(a), a[0]))\n",
        "    v[0] = 1\n",
        "    tau = 2 / (v.T @ v)\n",
        "\n",
        "    return v,tau\n",
        "\n",
        "\n",
        "def Householder(A: np.ndarray):\n",
        "    m, n = A.shape\n",
        "    R = A.copy()\n",
        "    Q = np.identity(m)\n",
        "\n",
        "    for j in range(0, n):\n",
        "        v, tau = houseVector(R[j:, j, np.newaxis])\n",
        "\n",
        "        H = np.identity(m)\n",
        "        H[j:, j:] -= tau * (v @ v.T)\n",
        "        R = H @ R\n",
        "        Q = H @ Q\n",
        "\n",
        "    return Q[:n].T, np.triu(R[:n])\n",
        "\n",
        "\n",
        "\n",
        "#QR-алгоритм\n",
        "#def QRalg(A):\n",
        "  #  A1 = np.copy(A)\n",
        " #   start_time = time.time()\n",
        "  #  while True:\n",
        "   #     Q, A1 = np.linalg.qr(A1)\n",
        "     #   A1 = A1 @ Q\n",
        "    #    if sumSqBelow(A1) < 10**(-12):\n",
        "     #      break\n",
        "   #end_time = time.time()\n",
        "   # return A1, end_time - start_time\n",
        "\n",
        "\n",
        "def QRalg(A):\n",
        "\teps = 10**(-12); cnttol = 500\n",
        "\tm = A.shape[0]; eig = np.zeros(m, dtype=complex)\n",
        "\tn = m - 1\n",
        "\n",
        "\twhile n > 0:\n",
        "\t\tcnt = 0\n",
        "\n",
        "\t\twhile max(abs(A[n, 0:n])) > eps and cnt < cnttol:\n",
        "\t\t\tcnt += 1\n",
        "\t\t\tQ, R = np.linalg.qr(A)\n",
        "\t\t\tA = R @ Q\n",
        "\n",
        "\t\tif cnt < cnttol:\n",
        "\t\t\teig[n]=A[n, n]\n",
        "\t\t\tn -= 1\n",
        "\t\t\tA = A[:n+1, :n+1]\n",
        "\n",
        "\t\telse:\n",
        "\t\t\tdisc = complex(( A[-2, -2] - A[-1, -1] )**2 + 4*A[-1, -2]*A[-2, -1])\n",
        "\t\t\teig[n]=( A[-2, -2] + A[-1, -1] + np.sqrt(disc) )/2\n",
        "\t\t\teig[n-1]=( A[-2, -2] + A[-1, -1] - np.sqrt(disc) )/2\n",
        "\t\t\tn -= 2\n",
        "\t\t\tA = A[:n+1, :n+1]\n",
        "\n",
        "\tif n==0:\n",
        "\t\teig[0] = A[0,0]\n",
        "\n",
        "\treturn eig\n",
        "\n",
        "#print('Собственные числа матрицы А с помощью втроенной функции: ')\n",
        "a, b = np.linalg.eig(A)\n",
        "#print(a, '\\n')\n",
        "s = time.time()\n",
        "eig = QRalg(A)\n",
        "en = time.time()\n",
        "#print('Матрица после QR-алгоритма:')\n",
        "#print(A1)\n",
        "#print('Собственные числа через QR-алгоритм: ')\n",
        "#print(eig, '\\n')\n",
        "\n",
        "print('Норма разности:', norm(a, eig), '\\n')\n",
        "\n",
        "print('Время, затраченное на QR-алгоритм:', en-s)\n",
        "\n",
        "\n"
      ]
    },
    {
      "cell_type": "markdown",
      "metadata": {
        "id": "lyKxq-TqRZkP"
      },
      "source": [
        "# QR-алгоритм для матрицы в форме Хессенберга"
      ]
    },
    {
      "cell_type": "code",
      "execution_count": null,
      "metadata": {
        "colab": {
          "base_uri": "https://localhost:8080/"
        },
        "id": "XSwDoV1pRmxV",
        "outputId": "5f21669f-a2ef-4f9e-af5c-6e7e6ca1017c"
      },
      "outputs": [
        {
          "output_type": "stream",
          "name": "stdout",
          "text": [
            "Матрица в форме Хессенберга\n",
            "[[ 1.000000 -7.348469  0.000000  0.000000  0.000000]\n",
            " [-7.348469 24.370370  3.312693  0.000000  0.000000]\n",
            " [ 0.000000  3.312693 -0.370370  0.000000 -0.000000]\n",
            " [ 0.000000 -0.000000 -0.000000  0.000000  0.000000]\n",
            " [ 0.000000 -0.000000  0.000000  0.000000 -0.000000]] \n",
            "\n",
            "Матрица в форме Хессенберга (встроенная функция)\n",
            "[[ 1.000000 -7.348469  0.000000 -0.000000  0.000000]\n",
            " [-7.348469 24.370370  3.312693 -0.000000  0.000000]\n",
            " [ 0.000000  3.312693 -0.370370  0.000000 -0.000000]\n",
            " [ 0.000000  0.000000  0.000000 -0.000000 -0.000000]\n",
            " [ 0.000000  0.000000  0.000000  0.000000 -0.000000]]\n"
          ]
        }
      ],
      "source": [
        "#функция создания орта\n",
        "def ort(size, pos):\n",
        "    if size == 1:\n",
        "       return 1\n",
        "    else:\n",
        "       e = np.zeros(size)\n",
        "       e[pos] = 1\n",
        "       return e\n",
        "\n",
        "#приведение к форме Хессенберга\n",
        "def hessenberg(A1):\n",
        "    A = np.copy(A1)\n",
        "\n",
        "    if (len(A) <= 4):\n",
        "      for i in range(len(A)-2):\n",
        "        x = A[i+1:, i]\n",
        "\n",
        "        u = np.zeros(len(x))\n",
        "        u = x + np.sign(x[0]) * np.linalg.norm(x, 2) * ort(len(x), 0)\n",
        "\n",
        "        P = np.eye(len(x)) - 2 * ((np.outer(u, u.transpose()))/(np.dot(u.transpose(), u)))\n",
        "\n",
        "        P1 = np.zeros((len(A), len(A)))\n",
        "        P1[i+1:, i+1:] = P\n",
        "        for i in range(len(P)):\n",
        "            if P1[i, i] == 0:\n",
        "               P1[i, i] = 1\n",
        "            else:\n",
        "              break\n",
        "\n",
        "        A = P1.T @ A @ P1\n",
        "\n",
        "\n",
        "    else:\n",
        "      for i in range(len(A)-3):\n",
        "        x = A[i+1:, i]\n",
        "\n",
        "        u = np.zeros(len(x))\n",
        "        u = x + np.sign(x[0]) * np.linalg.norm(x, 2) * ort(len(x), 0)\n",
        "\n",
        "        P = np.eye(len(x)) - 2 * ((np.outer(u, u.transpose()))/(np.dot(u.transpose(), u)))\n",
        "\n",
        "        P1 = np.zeros((len(A), len(A)))\n",
        "        P1[i+1:, i+1:] = P\n",
        "        for i in range(len(P)):\n",
        "            if P1[i, i] == 0:\n",
        "               P1[i, i] = 1\n",
        "            else:\n",
        "              break\n",
        "\n",
        "        A = P1.T @ A @ P1\n",
        "\n",
        "    return A\n",
        "\n",
        "\n",
        "#print('Матрица A')\n",
        "#print(A, '\\n')\n",
        "\n",
        "H1 = hessenberg(np.copy(A))\n",
        "print('Матрица в форме Хессенберга')\n",
        "print(H1, '\\n')\n",
        "\n",
        "print('Матрица в форме Хессенберга (встроенная функция)')\n",
        "print(scipy.linalg.hessenberg(np.copy(A)))"
      ]
    },
    {
      "cell_type": "code",
      "execution_count": null,
      "metadata": {
        "colab": {
          "base_uri": "https://localhost:8080/"
        },
        "id": "5sBBD-D_SwXZ",
        "outputId": "274b8e0d-7504-4f63-b155-141faa07ebc8"
      },
      "outputs": [
        {
          "output_type": "stream",
          "name": "stdout",
          "text": [
            "Собственные числа матрицы А с помощью вcтроенной функции: \n",
            "[26.861407+0.000000j -1.861407+0.000000j -0.000000+0.000000j\n",
            " -0.000000-0.000000j  0.000000+0.000000j] \n",
            "\n",
            "Собственные числа через QR-алгоритм: \n",
            "[26.861407+0.000000j -1.861407+0.000000j -0.000000+0.000000j\n",
            "  0.000000+0.000000j -0.000000+0.000000j] \n",
            "\n",
            "Норма разности: (3.2912231136981212e-15-1.596041105696207e-16j) \n",
            "\n",
            "Время, затраченное на QR-алгоритм: 0.0009055137634277344\n"
          ]
        }
      ],
      "source": [
        "print('Собственные числа матрицы А с помощью вcтроенной функции: ')\n",
        "print(a, '\\n')\n",
        "\n",
        "s = time.time()\n",
        "eig = QRalg(H1)\n",
        "en = time.time()\n",
        "#print('Матрица Н после QR-алгоритма')\n",
        "#print(H1)\n",
        "print('Собственные числа через QR-алгоритм: ')\n",
        "print(eig, '\\n')\n",
        "print('Норма разности:', norm(a, eig), '\\n')\n",
        "print('Время, затраченное на QR-алгоритм:', en-s)"
      ]
    },
    {
      "cell_type": "markdown",
      "metadata": {
        "id": "-UYitD51v-A4"
      },
      "source": [
        "#QR-алгоритм со сдвигами"
      ]
    },
    {
      "cell_type": "code",
      "execution_count": null,
      "metadata": {
        "colab": {
          "base_uri": "https://localhost:8080/"
        },
        "id": "w_oKYcbVwO4f",
        "outputId": "76aedee2-db2d-4b6c-bcd4-a5b9911fb79f"
      },
      "outputs": [
        {
          "output_type": "stream",
          "name": "stdout",
          "text": [
            "Собственные числа матрицы А с помощью втроенной функции: \n",
            "[26.861407+0.000000j -1.861407+0.000000j -0.000000+0.000000j\n",
            " -0.000000-0.000000j  0.000000+0.000000j] \n",
            "\n",
            "Собственные числа через QR-алгоритм со сдвигами: \n",
            "[26.861407+0.000000j -1.861407+0.000000j -0.000000+0.000000j\n",
            "  0.000000+0.000000j -0.000000+0.000000j] \n",
            "\n",
            "Норма разности: (4.86001710681875e-29-4.987586372745744e-31j) \n",
            "\n",
            "Время, затраченное на QR-алгоритм со сдвигами: 0.0007712841033935547\n"
          ]
        }
      ],
      "source": [
        "H = hessenberg(A)\n",
        "\n",
        "def shiftedqr(A):\n",
        "\teps = 10**(-12); cnttol = 500\n",
        "\tm = A.shape[0]; eig = np.zeros(m, dtype=complex)\n",
        "\tn = m - 1\n",
        "\n",
        "\twhile n > 0:\n",
        "\t\tcnt = 0\n",
        "\n",
        "\t\twhile max(abs(A[n, 0:n])) > eps and cnt < cnttol:\n",
        "\t\t\tcnt += 1\n",
        "\t\t\tmu = A[n, n]\n",
        "\t\t\tQ, R = np.linalg.qr( A - mu*np.eye(n+1) )\n",
        "\t\t\tA = R @ Q + mu*np.eye(n + 1)\n",
        "\n",
        "\t\tif cnt < cnttol:\n",
        "\t\t\teig[n]=A[n, n]\n",
        "\t\t\tn -= 1\n",
        "\t\t\tA = A[:n+1, :n+1]\n",
        "\n",
        "\t\telse:\n",
        "\t\t\tdisc = complex(( A[-2, -2] - A[-1, -1] )**2 + 4*A[-1, -2]*A[-2, -1])\n",
        "\t\t\teig[n]=( A[-2, -2] + A[-1, -1] + np.sqrt(disc) )/2.\n",
        "\t\t\teig[n-1]=( A[-2, -2] + A[-1, -1] - np.sqrt(disc) )/2.\n",
        "\t\t\tn -= 2\n",
        "\t\t\tA = A[:n+1, :n+1]\n",
        "\n",
        "\tif n==0:\n",
        "\t\teig[0] = A[0,0]\n",
        "\n",
        "\treturn eig\n",
        "\n",
        "start_time = time.time()\n",
        "eig = shiftedqr(H)\n",
        "end_time = time.time()\n",
        "\n",
        "print('Собственные числа матрицы А с помощью втроенной функции: ')\n",
        "print(a, '\\n')\n",
        "print('Собственные числа через QR-алгоритм со сдвигами: ')\n",
        "print(eig, '\\n')\n",
        "print('Норма разности:', norm(a, eig), '\\n')\n",
        "print('Время, затраченное на QR-алгоритм со сдвигами:', end_time-start_time)\n"
      ]
    }
  ],
  "metadata": {
    "colab": {
      "provenance": []
    },
    "kernelspec": {
      "display_name": "Python 3",
      "name": "python3"
    },
    "language_info": {
      "name": "python"
    }
  },
  "nbformat": 4,
  "nbformat_minor": 0
}